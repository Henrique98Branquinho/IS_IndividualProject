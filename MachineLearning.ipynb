{
 "cells": [
  {
   "cell_type": "code",
   "execution_count": 20,
   "id": "c7f2d51a",
   "metadata": {},
   "outputs": [],
   "source": [
    "import pandas as pd\n",
    "from sklearn.linear_model import LogisticRegression\n",
    "from sklearn.ensemble import RandomForestClassifier\n",
    "from sklearn.metrics import (\n",
    "    classification_report,\n",
    "    confusion_matrix,\n",
    "    accuracy_score,\n",
    "    precision_score,\n",
    "    recall_score,\n",
    "    f1_score,\n",
    "    roc_auc_score,\n",
    "    roc_curve,\n",
    ")\n",
    "import seaborn as sns\n",
    "import matplotlib.pyplot as plt"
   ]
  },
  {
   "cell_type": "markdown",
   "id": "abbc213c",
   "metadata": {},
   "source": [
    "### Read Data"
   ]
  },
  {
   "cell_type": "code",
   "execution_count": 21,
   "id": "739c7964",
   "metadata": {},
   "outputs": [],
   "source": [
    "# Step 1: Load Train and Test Data\n",
    "train_file_path = 'train_data.csv'\n",
    "test_file_path = 'test_data.csv'\n",
    "\n",
    "train_data = pd.read_csv(train_file_path)\n",
    "test_data = pd.read_csv(test_file_path)\n",
    "\n",
    "# Step 2: Separate Features and Target\n",
    "target_column = train_data.columns[-1]  # Assuming the first column is the target\n",
    "X_train = train_data.drop(columns=[target_column])\n",
    "y_train = train_data[target_column]\n",
    "\n",
    "X_test = test_data.drop(columns=[target_column])\n",
    "y_test = test_data[target_column]"
   ]
  },
  {
   "cell_type": "markdown",
   "id": "280b30ea",
   "metadata": {},
   "source": [
    "### Random Forest\n"
   ]
  },
  {
   "cell_type": "code",
   "execution_count": 33,
   "id": "c27b264e",
   "metadata": {},
   "outputs": [
    {
     "name": "stdout",
     "output_type": "stream",
     "text": [
      "Best Parameters: {'max_depth': None, 'min_samples_leaf': 1, 'min_samples_split': 2, 'n_estimators': 250}\n",
      "Best Cross-validation Accuracy: 0.9758479132759823\n",
      "\n",
      "Random Forest Classifier with Best Hyperparameters Metrics:\n",
      "Accuracy: 0.9792\n",
      "Precision: 0.9796\n",
      "Recall: 0.9792\n",
      "F1-Score: 0.9792\n",
      "AUC-ROC: 0.9988\n"
     ]
    }
   ],
   "source": [
    "from sklearn.model_selection import GridSearchCV\n",
    "from sklearn.ensemble import RandomForestClassifier\n",
    "from sklearn.metrics import accuracy_score, precision_score, recall_score, f1_score, roc_auc_score\n",
    "\n",
    "# Define the Random Forest model\n",
    "rfc_model = RandomForestClassifier(random_state=42)\n",
    "\n",
    "# Simplified parameter grid\n",
    "param_grid = {\n",
    "    'n_estimators': [50, 100, 150, 200, 250],  # Number of trees in the forest\n",
    "    'max_depth': [None, 10, 20, 50],  # Maximum depth of the trees\n",
    "    'min_samples_split': [2, 5, 10],  # Minimum samples required to split an internal node\n",
    "    'min_samples_leaf': [1, 2, 3, 4]  # Minimum samples required to be at a leaf node\n",
    "}\n",
    "\n",
    "# Perform GridSearchCV with simplified parameters\n",
    "grid_search = GridSearchCV(estimator=rfc_model, param_grid=param_grid, cv=3, scoring='accuracy', n_jobs=-1)\n",
    "grid_search.fit(X_train, y_train)\n",
    "\n",
    "# Best parameters and best score\n",
    "print(\"Best Parameters:\", grid_search.best_params_)\n",
    "print(\"Best Cross-validation Accuracy:\", grid_search.best_score_)\n",
    "\n",
    "# Evaluate the best model on the test set\n",
    "best_rfc_model = grid_search.best_estimator_\n",
    "rfc_predictions = best_rfc_model.predict(X_test)\n",
    "rfc_probabilities = best_rfc_model.predict_proba(X_test)[:, 1] if len(y_test.unique()) == 2 else None\n",
    "\n",
    "# Print test metrics\n",
    "print(\"\\nRandom Forest Classifier with Best Hyperparameters Metrics:\")\n",
    "print(f\"Accuracy: {accuracy_score(y_test, rfc_predictions):.4f}\")\n",
    "print(f\"Precision: {precision_score(y_test, rfc_predictions, average='weighted'):.4f}\")\n",
    "print(f\"Recall: {recall_score(y_test, rfc_predictions, average='weighted'):.4f}\")\n",
    "print(f\"F1-Score: {f1_score(y_test, rfc_predictions, average='weighted'):.4f}\")\n",
    "if rfc_probabilities is not None:\n",
    "    print(f\"AUC-ROC: {roc_auc_score(y_test, rfc_probabilities):.4f}\")\n"
   ]
  },
  {
   "cell_type": "markdown",
   "id": "5631c3ad",
   "metadata": {},
   "source": [
    "### Logistic Regression"
   ]
  },
  {
   "cell_type": "code",
   "execution_count": 32,
   "id": "3b12b7e3",
   "metadata": {},
   "outputs": [
    {
     "name": "stdout",
     "output_type": "stream",
     "text": [
      "\n",
      "Random Forest Classifier with Best Hyperparameters Metrics:\n",
      "Accuracy: 0.9792\n",
      "Precision: 0.9796\n",
      "Recall: 0.9792\n",
      "F1-Score: 0.9792\n",
      "AUC-ROC: 0.9988\n"
     ]
    }
   ],
   "source": [
    "\n",
    "# Print test metrics\n",
    "\n",
    "\n",
    "print(\"\\nRandom Forest Classifier with Best Hyperparameters Metrics:\")\n",
    "print(f\"Accuracy: {accuracy_score(y_test, rfc_predictions):.4f}\")\n",
    "print(f\"Precision: {precision_score(y_test, rfc_predictions, average='weighted'):.4f}\")\n",
    "print(f\"Recall: {recall_score(y_test, rfc_predictions, average='weighted'):.4f}\")\n",
    "print(f\"F1-Score: {f1_score(y_test, rfc_predictions, average='weighted'):.4f}\")\n",
    "if rfc_probabilities is not None:\n",
    "    print(f\"AUC-ROC: {roc_auc_score(y_test, rfc_probabilities):.4f}\")\n"
   ]
  },
  {
   "cell_type": "code",
   "execution_count": 28,
   "id": "dce6c0ea",
   "metadata": {},
   "outputs": [
    {
     "name": "stderr",
     "output_type": "stream",
     "text": [
      "c:\\Users\\henri\\anaconda3\\envs\\IntelSis\\Lib\\site-packages\\sklearn\\model_selection\\_validation.py:540: FitFailedWarning: \n",
      "360 fits failed out of a total of 720.\n",
      "The score on these train-test partitions for these parameters will be set to nan.\n",
      "If these failures are not expected, you can try to debug them by setting error_score='raise'.\n",
      "\n",
      "Below are more details about the failures:\n",
      "--------------------------------------------------------------------------------\n",
      "120 fits failed with the following error:\n",
      "Traceback (most recent call last):\n",
      "  File \"c:\\Users\\henri\\anaconda3\\envs\\IntelSis\\Lib\\site-packages\\sklearn\\model_selection\\_validation.py\", line 888, in _fit_and_score\n",
      "    estimator.fit(X_train, y_train, **fit_params)\n",
      "  File \"c:\\Users\\henri\\anaconda3\\envs\\IntelSis\\Lib\\site-packages\\sklearn\\base.py\", line 1473, in wrapper\n",
      "    return fit_method(estimator, *args, **kwargs)\n",
      "           ^^^^^^^^^^^^^^^^^^^^^^^^^^^^^^^^^^^^^^\n",
      "  File \"c:\\Users\\henri\\anaconda3\\envs\\IntelSis\\Lib\\site-packages\\sklearn\\linear_model\\_logistic.py\", line 1194, in fit\n",
      "    solver = _check_solver(self.solver, self.penalty, self.dual)\n",
      "             ^^^^^^^^^^^^^^^^^^^^^^^^^^^^^^^^^^^^^^^^^^^^^^^^^^^\n",
      "  File \"c:\\Users\\henri\\anaconda3\\envs\\IntelSis\\Lib\\site-packages\\sklearn\\linear_model\\_logistic.py\", line 67, in _check_solver\n",
      "    raise ValueError(\n",
      "ValueError: Solver lbfgs supports only 'l2' or None penalties, got l1 penalty.\n",
      "\n",
      "--------------------------------------------------------------------------------\n",
      "120 fits failed with the following error:\n",
      "Traceback (most recent call last):\n",
      "  File \"c:\\Users\\henri\\anaconda3\\envs\\IntelSis\\Lib\\site-packages\\sklearn\\model_selection\\_validation.py\", line 888, in _fit_and_score\n",
      "    estimator.fit(X_train, y_train, **fit_params)\n",
      "  File \"c:\\Users\\henri\\anaconda3\\envs\\IntelSis\\Lib\\site-packages\\sklearn\\base.py\", line 1473, in wrapper\n",
      "    return fit_method(estimator, *args, **kwargs)\n",
      "           ^^^^^^^^^^^^^^^^^^^^^^^^^^^^^^^^^^^^^^\n",
      "  File \"c:\\Users\\henri\\anaconda3\\envs\\IntelSis\\Lib\\site-packages\\sklearn\\linear_model\\_logistic.py\", line 1194, in fit\n",
      "    solver = _check_solver(self.solver, self.penalty, self.dual)\n",
      "             ^^^^^^^^^^^^^^^^^^^^^^^^^^^^^^^^^^^^^^^^^^^^^^^^^^^\n",
      "  File \"c:\\Users\\henri\\anaconda3\\envs\\IntelSis\\Lib\\site-packages\\sklearn\\linear_model\\_logistic.py\", line 67, in _check_solver\n",
      "    raise ValueError(\n",
      "ValueError: Solver lbfgs supports only 'l2' or None penalties, got elasticnet penalty.\n",
      "\n",
      "--------------------------------------------------------------------------------\n",
      "120 fits failed with the following error:\n",
      "Traceback (most recent call last):\n",
      "  File \"c:\\Users\\henri\\anaconda3\\envs\\IntelSis\\Lib\\site-packages\\sklearn\\model_selection\\_validation.py\", line 888, in _fit_and_score\n",
      "    estimator.fit(X_train, y_train, **fit_params)\n",
      "  File \"c:\\Users\\henri\\anaconda3\\envs\\IntelSis\\Lib\\site-packages\\sklearn\\base.py\", line 1473, in wrapper\n",
      "    return fit_method(estimator, *args, **kwargs)\n",
      "           ^^^^^^^^^^^^^^^^^^^^^^^^^^^^^^^^^^^^^^\n",
      "  File \"c:\\Users\\henri\\anaconda3\\envs\\IntelSis\\Lib\\site-packages\\sklearn\\linear_model\\_logistic.py\", line 1194, in fit\n",
      "    solver = _check_solver(self.solver, self.penalty, self.dual)\n",
      "             ^^^^^^^^^^^^^^^^^^^^^^^^^^^^^^^^^^^^^^^^^^^^^^^^^^^\n",
      "  File \"c:\\Users\\henri\\anaconda3\\envs\\IntelSis\\Lib\\site-packages\\sklearn\\linear_model\\_logistic.py\", line 75, in _check_solver\n",
      "    raise ValueError(\n",
      "ValueError: Only 'saga' solver supports elasticnet penalty, got solver=liblinear.\n",
      "\n",
      "  warnings.warn(some_fits_failed_message, FitFailedWarning)\n",
      "c:\\Users\\henri\\anaconda3\\envs\\IntelSis\\Lib\\site-packages\\sklearn\\model_selection\\_search.py:1102: UserWarning: One or more of the test scores are non-finite: [0.60200739 0.60465949        nan 0.6050385         nan        nan\n",
      " 0.60267063 0.60465949        nan 0.6050385         nan        nan\n",
      " 0.60380717 0.60465949        nan 0.6050385         nan        nan\n",
      " 0.60390195 0.60465949        nan 0.6050385         nan        nan\n",
      " 0.60153386 0.60447014        nan 0.8105708         nan        nan\n",
      " 0.6039967  0.60447014        nan 0.8105708         nan        nan\n",
      " 0.60371261 0.60447014        nan 0.8105708         nan        nan\n",
      " 0.60409139 0.60447014        nan 0.8105708         nan        nan\n",
      " 0.60143921 0.60447009        nan 0.88861532        nan        nan\n",
      " 0.60267067 0.60447009        nan 0.88861532        nan        nan\n",
      " 0.60399665 0.60447009        nan 0.88861532        nan        nan\n",
      " 0.60390195 0.60447009        nan 0.88861532        nan        nan\n",
      " 0.60143921 0.60428074        nan 0.89657202        nan        nan\n",
      " 0.6030495  0.60428074        nan 0.8973296         nan        nan\n",
      " 0.60390195 0.60428074        nan 0.8973296         nan        nan\n",
      " 0.60390195 0.60428074        nan 0.8973296         nan        nan\n",
      " 0.60143921 0.60494362        nan 0.89865598        nan        nan\n",
      " 0.60314438 0.60494362        nan 0.89865598        nan        nan\n",
      " 0.60352303 0.60494362        nan 0.89865598        nan        nan\n",
      " 0.60380726 0.60494362        nan 0.89865598        nan        nan\n",
      " 0.60143921 0.60447014        nan 0.89704524        nan        nan\n",
      " 0.6028602  0.60447014        nan 0.89704524        nan        nan\n",
      " 0.60361773 0.60447014        nan 0.89704524        nan        nan\n",
      " 0.60390195 0.60447014        nan 0.89704524        nan        nan]\n",
      "  warnings.warn(\n"
     ]
    },
    {
     "name": "stdout",
     "output_type": "stream",
     "text": [
      "Best Parameters: {'C': 10, 'max_iter': 100, 'penalty': 'l1', 'solver': 'liblinear'}\n",
      "Best Cross-validation Accuracy: 0.8986559848843718\n",
      "\n",
      "Logistic Regression with Best Hyperparameters Metrics:\n",
      "Accuracy: 0.9042\n",
      "Precision: 0.9044\n",
      "Recall: 0.9042\n",
      "F1-Score: 0.9042\n",
      "AUC-ROC: 0.9588\n"
     ]
    },
    {
     "name": "stderr",
     "output_type": "stream",
     "text": [
      "c:\\Users\\henri\\anaconda3\\envs\\IntelSis\\Lib\\site-packages\\sklearn\\svm\\_base.py:1235: ConvergenceWarning: Liblinear failed to converge, increase the number of iterations.\n",
      "  warnings.warn(\n"
     ]
    }
   ],
   "source": [
    "from sklearn.model_selection import GridSearchCV\n",
    "from sklearn.linear_model import LogisticRegression\n",
    "\n",
    "# Define the model\n",
    "lr_model = LogisticRegression(max_iter=1000, random_state=42)\n",
    "\n",
    "# Define the parameter grid\n",
    "param_grid = {\n",
    "    'C': [0.001, 0.01, 0.1, 1, 10, 100],  # Regularization strength\n",
    "    'penalty': ['l2', 'l1', 'elasticnet'],  # Regularization type (L1 or L2)\n",
    "    'solver': ['lbfgs', 'liblinear'],  # Solvers for optimization\n",
    "    'max_iter': [100, 200, 500, 1000]  # Number of iterations to converge\n",
    "}\n",
    "\n",
    "# Perform GridSearchCV\n",
    "grid_search = GridSearchCV(estimator=lr_model, param_grid=param_grid, cv=5, scoring='accuracy', n_jobs=-1)\n",
    "grid_search.fit(X_train, y_train)\n",
    "\n",
    "# Best parameters and best score\n",
    "print(\"Best Parameters:\", grid_search.best_params_)\n",
    "print(\"Best Cross-validation Accuracy:\", grid_search.best_score_)\n",
    "\n",
    "# Evaluate the best model on the test set\n",
    "best_lr_model = grid_search.best_estimator_\n",
    "lr_predictions = best_lr_model.predict(X_test)\n",
    "lr_probabilities = best_lr_model.predict_proba(X_test)[:, 1] if len(y_test.unique()) == 2 else None\n",
    "\n",
    "# Print test metrics\n",
    "from sklearn.metrics import accuracy_score, precision_score, recall_score, f1_score, roc_auc_score\n",
    "\n",
    "print(\"\\nLogistic Regression with Best Hyperparameters Metrics:\")\n",
    "print(f\"Accuracy: {accuracy_score(y_test, lr_predictions):.4f}\")\n",
    "print(f\"Precision: {precision_score(y_test, lr_predictions, average='weighted'):.4f}\")\n",
    "print(f\"Recall: {recall_score(y_test, lr_predictions, average='weighted'):.4f}\")\n",
    "print(f\"F1-Score: {f1_score(y_test, lr_predictions, average='weighted'):.4f}\")\n",
    "if lr_probabilities is not None:\n",
    "    print(f\"AUC-ROC: {roc_auc_score(y_test, lr_probabilities):.4f}\")\n"
   ]
  },
  {
   "cell_type": "markdown",
   "id": "a956c76d",
   "metadata": {},
   "source": [
    "### SVM"
   ]
  },
  {
   "cell_type": "code",
   "execution_count": 34,
   "id": "ae9b2096",
   "metadata": {},
   "outputs": [
    {
     "name": "stdout",
     "output_type": "stream",
     "text": [
      "Best Parameters: {'C': 10, 'class_weight': None, 'gamma': 'scale', 'kernel': 'rbf'}\n",
      "Best Cross-validation Accuracy: 0.862284341712091\n",
      "\n",
      "SVM with Best Hyperparameters Metrics:\n",
      "Accuracy: 0.8773\n",
      "Precision: 0.8807\n",
      "Recall: 0.8773\n",
      "F1-Score: 0.8770\n",
      "AUC-ROC: 0.9381\n"
     ]
    }
   ],
   "source": [
    "from sklearn.model_selection import GridSearchCV\n",
    "from sklearn.svm import SVC\n",
    "from sklearn.metrics import accuracy_score, precision_score, recall_score, f1_score, roc_auc_score\n",
    "\n",
    "# Define the SVM model\n",
    "svm_model = SVC(random_state=42)\n",
    "\n",
    "# Define the parameter grid\n",
    "param_grid = {\n",
    "    'C': [0.1, 1, 10],  # Regularization parameter\n",
    "    'gamma': ['scale', 'auto', 0.1, 1],  # Kernel coefficient for 'rbf'\n",
    "    'kernel': ['rbf'],  # Using RBF kernel\n",
    "    'class_weight': [None, 'balanced']  # Weighting classes to handle imbalance\n",
    "}\n",
    "\n",
    "# Perform GridSearchCV\n",
    "grid_search = GridSearchCV(estimator=svm_model, param_grid=param_grid, cv=3, scoring='accuracy', n_jobs=-1)\n",
    "grid_search.fit(X_train, y_train)\n",
    "\n",
    "# Best parameters and best score\n",
    "print(\"Best Parameters:\", grid_search.best_params_)\n",
    "print(\"Best Cross-validation Accuracy:\", grid_search.best_score_)\n",
    "\n",
    "# Evaluate the best model on the test set\n",
    "best_svm_model = grid_search.best_estimator_\n",
    "svm_predictions = best_svm_model.predict(X_test)\n",
    "svm_probabilities = best_svm_model.decision_function(X_test) if len(y_test.unique()) == 2 else None\n",
    "\n",
    "# Print test metrics\n",
    "print(\"\\nSVM with Best Hyperparameters Metrics:\")\n",
    "print(f\"Accuracy: {accuracy_score(y_test, svm_predictions):.4f}\")\n",
    "print(f\"Precision: {precision_score(y_test, svm_predictions, average='weighted'):.4f}\")\n",
    "print(f\"Recall: {recall_score(y_test, svm_predictions, average='weighted'):.4f}\")\n",
    "print(f\"F1-Score: {f1_score(y_test, svm_predictions, average='weighted'):.4f}\")\n",
    "if svm_probabilities is not None:\n",
    "    print(f\"AUC-ROC: {roc_auc_score(y_test, svm_probabilities):.4f}\")\n"
   ]
  },
  {
   "cell_type": "markdown",
   "id": "05204753",
   "metadata": {},
   "source": [
    "### Plots"
   ]
  },
  {
   "cell_type": "code",
   "execution_count": 25,
   "id": "63040ce7",
   "metadata": {},
   "outputs": [
    {
     "name": "stdout",
     "output_type": "stream",
     "text": [
      "\n",
      "Logistic Regression Metrics:\n",
      "Accuracy: 0.90\n",
      "Precision: 0.90\n",
      "Recall: 0.90\n",
      "F1-Score: 0.90\n",
      "AUC-ROC: 0.96\n",
      "\n",
      "Random Forest Classifier Metrics:\n",
      "Accuracy: 0.98\n",
      "Precision: 0.98\n",
      "Recall: 0.98\n",
      "F1-Score: 0.98\n",
      "AUC-ROC: 1.00\n",
      "\n",
      "Support Vector Machine (SVM) Metrics:\n",
      "Accuracy: 0.88\n",
      "Precision: 0.88\n",
      "Recall: 0.88\n",
      "F1-Score: 0.88\n",
      "AUC-ROC: 0.94\n"
     ]
    },
    {
     "data": {
      "image/png": "[encoded data removed]",
      "text/plain": [
       "<Figure size 1000x600 with 1 Axes>"
      ]
     },
     "metadata": {},
     "output_type": "display_data"
    }
   ],
   "source": [
    "from sklearn.svm import SVC\n",
    "from sklearn.metrics import accuracy_score, precision_score, recall_score, f1_score, roc_auc_score, roc_curve\n",
    "import matplotlib.pyplot as plt\n",
    "\n",
    "# Assuming that `lr_model`, `rfc_model`, and `svm_model` have been trained previously\n",
    "# and that `lr_predictions`, `rfc_predictions`, and `svm_predictions` are the predictions for X_test.\n",
    "# Similarly, `lr_probabilities`, `rfc_probabilities`, and `svm_probabilities` should be available.\n",
    "\n",
    "# Print metrics for Logistic Regression\n",
    "print(\"\\nLogistic Regression Metrics:\")\n",
    "print(f\"Accuracy: {accuracy_score(y_test, lr_predictions):.2f}\")\n",
    "print(f\"Precision: {precision_score(y_test, lr_predictions, average='weighted'):.2f}\")\n",
    "print(f\"Recall: {recall_score(y_test, lr_predictions, average='weighted'):.2f}\")\n",
    "print(f\"F1-Score: {f1_score(y_test, lr_predictions, average='weighted'):.2f}\")\n",
    "if lr_probabilities is not None:\n",
    "    print(f\"AUC-ROC: {roc_auc_score(y_test, lr_probabilities):.2f}\")\n",
    "\n",
    "# Print metrics for Random Forest\n",
    "print(\"\\nRandom Forest Classifier Metrics:\")\n",
    "print(f\"Accuracy: {accuracy_score(y_test, rfc_predictions):.2f}\")\n",
    "print(f\"Precision: {precision_score(y_test, rfc_predictions, average='weighted'):.2f}\")\n",
    "print(f\"Recall: {recall_score(y_test, rfc_predictions, average='weighted'):.2f}\")\n",
    "print(f\"F1-Score: {f1_score(y_test, rfc_predictions, average='weighted'):.2f}\")\n",
    "if rfc_probabilities is not None:\n",
    "    print(f\"AUC-ROC: {roc_auc_score(y_test, rfc_probabilities):.2f}\")\n",
    "\n",
    "# Print metrics for Support Vector Machine (SVM)\n",
    "print(\"\\nSupport Vector Machine (SVM) Metrics:\")\n",
    "print(f\"Accuracy: {accuracy_score(y_test, svm_predictions):.2f}\")\n",
    "print(f\"Precision: {precision_score(y_test, svm_predictions, average='weighted'):.2f}\")\n",
    "print(f\"Recall: {recall_score(y_test, svm_predictions, average='weighted'):.2f}\")\n",
    "print(f\"F1-Score: {f1_score(y_test, svm_predictions, average='weighted'):.2f}\")\n",
    "if svm_probabilities is not None:\n",
    "    print(f\"AUC-ROC: {roc_auc_score(y_test, svm_probabilities):.2f}\")\n",
    "\n",
    "# Optional: Plot ROC Curves (Binary Classification Only)\n",
    "if lr_probabilities is not None and rfc_probabilities is not None and svm_probabilities is not None:\n",
    "    lr_fpr, lr_tpr, _ = roc_curve(y_test, lr_probabilities)\n",
    "    rfc_fpr, rfc_tpr, _ = roc_curve(y_test, rfc_probabilities)\n",
    "    svm_fpr, svm_tpr, _ = roc_curve(y_test, svm_probabilities)\n",
    "\n",
    "    # Plot all ROC curves in the same figure\n",
    "    plt.figure(figsize=(10, 6))\n",
    "    plt.plot(lr_fpr, lr_tpr, label=\"Logistic Regression (AUC = {:.2f})\".format(roc_auc_score(y_test, lr_probabilities)))\n",
    "    plt.plot(rfc_fpr, rfc_tpr, label=\"Random Forest (AUC = {:.2f})\".format(roc_auc_score(y_test, rfc_probabilities)))\n",
    "    plt.plot(svm_fpr, svm_tpr, label=\"SVM (AUC = {:.2f})\".format(roc_auc_score(y_test, svm_probabilities)))\n",
    "    plt.plot([0, 1], [0, 1], 'k--', label=\"Random Guess\")\n",
    "    plt.title(\"ROC Curves Comparison\")\n",
    "    plt.xlabel(\"False Positive Rate\")\n",
    "    plt.ylabel(\"True Positive Rate\")\n",
    "    plt.legend()\n",
    "    plt.show()\n"
   ]
  }
 ],
 "metadata": {
  "accelerator": "TPU",
  "colab": {
   "gpuType": "V28",
   "provenance": [],
   "toc_visible": true
  },
  "kernelspec": {
   "display_name": "IntelSis",
   "language": "python",
   "name": "python3"
  },
  "language_info": {
   "codemirror_mode": {
    "name": "ipython",
    "version": 3
   },
   "file_extension": ".py",
   "mimetype": "text/x-python",
   "name": "python",
   "nbconvert_exporter": "python",
   "pygments_lexer": "ipython3",
   "version": "3.12.2"
  }
 },
 "nbformat": 4,
 "nbformat_minor": 5
}
