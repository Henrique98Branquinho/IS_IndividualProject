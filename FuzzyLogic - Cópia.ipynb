{
 "cells": [
  {
   "cell_type": "code",
   "execution_count": 14,
   "id": "0f97c17c",
   "metadata": {},
   "outputs": [],
   "source": [
    "# %% Imports\n",
    "from sklearn.model_selection import train_test_split\n",
    "from pyfume.Clustering import Clusterer\n",
    "from pyfume.EstimateAntecendentSet import AntecedentEstimator\n",
    "from pyfume.EstimateConsequentParameters import ConsequentEstimator\n",
    "from pyfume.SimpfulModelBuilder import SugenoFISBuilder\n",
    "from pyfume.Tester import SugenoFISTester\n",
    "from sklearn.metrics import accuracy_score, recall_score, precision_score, f1_score, cohen_kappa_score\n",
    "from numpy import clip, column_stack, argmax\n",
    "import pandas as pd\n",
    "\n",
    "# %% Load dataset and create train-test sets\n",
    "train_data = pd.read_csv('train_data.csv')\n",
    "test_data = pd.read_csv('test_data.csv')\n",
    "\n",
    "# Extract features and target\n",
    "X_train = train_data.iloc[:, :-1].to_numpy()  # Ensure conversion to NumPy array\n",
    "y_train = train_data.iloc[:, -1].to_numpy()   # Target from training data\n",
    "X_test = test_data.iloc[:, :-1].to_numpy()    # Features from test data\n",
    "y_test = test_data.iloc[:, -1].to_numpy()     # Target from test data"
   ]
  },
  {
   "cell_type": "code",
   "execution_count": 15,
   "id": "585e9243",
   "metadata": {},
   "outputs": [
    {
     "name": "stdout",
     "output_type": "stream",
     "text": [
      " * Detected 10 rules / clusters\n",
      " * Detected Sugeno model type\n",
      "WARNING: the sum of rules' firing for variable 'OUTPUT' is equal to 0. The result of the Sugeno inference was set to 0.\n",
      "Accuracy: 0.892\n",
      "Recall: 0.918\n",
      "Precision Score: 0.872\n",
      "F1-Score: 0.894\n",
      "Kappa Score: 0.783\n"
     ]
    }
   ],
   "source": [
    "\n",
    "# Define variable names\n",
    "var_names = [\"Feature_\" + str(i) for i in range(X_train.shape[1])]\n",
    "\n",
    "# %% Cluster the input-output space\n",
    "cl = Clusterer(x_train=X_train, y_train=y_train, nr_clus=10)\n",
    "clust_centers, part_matrix, _ = cl.cluster(method='fcm')\n",
    "\n",
    "# %% Estimate membership functions parameters\n",
    "ae = AntecedentEstimator(X_train, part_matrix)\n",
    "antecedent_params = ae.determineMF()\n",
    "\n",
    "# %% Estimate consequent parameters\n",
    "ce = ConsequentEstimator(X_train, y_train, part_matrix)\n",
    "conseq_params = ce.suglms()\n",
    "\n",
    "# %% Build first-order Takagi-Sugeno model\n",
    "modbuilder = SugenoFISBuilder(antecedent_params, conseq_params, var_names, save_simpful_code=False)\n",
    "model = modbuilder.get_model()\n",
    "\n",
    "# %% Get model predictions\n",
    "modtester = SugenoFISTester(model, X_test, var_names)\n",
    "y_pred_probs = clip(modtester.predict()[0], 0, 1)\n",
    "y_pred_probs = column_stack((1 - y_pred_probs, y_pred_probs))\n",
    "y_pred = argmax(y_pred_probs, axis=1)\n",
    "\n",
    "# %% Compute classification metrics\n",
    "acc_score = accuracy_score(y_test, y_pred)\n",
    "print(\"Accuracy: {:.3f}\".format(acc_score))\n",
    "rec_score = recall_score(y_test, y_pred)\n",
    "print(\"Recall: {:.3f}\".format(rec_score))\n",
    "prec_score = precision_score(y_test, y_pred)\n",
    "print(\"Precision Score: {:.3f}\".format(prec_score))\n",
    "F1_score = f1_score(y_test, y_pred)\n",
    "print(\"F1-Score: {:.3f}\".format(F1_score))\n",
    "kappa = cohen_kappa_score(y_test, y_pred)\n",
    "print(\"Kappa Score: {:.3f}\".format(kappa))\n"
   ]
  }
 ],
 "metadata": {
  "accelerator": "TPU",
  "colab": {
   "gpuType": "V28",
   "provenance": [],
   "toc_visible": true
  },
  "kernelspec": {
   "display_name": "IntelSis",
   "language": "python",
   "name": "python3"
  },
  "language_info": {
   "codemirror_mode": {
    "name": "ipython",
    "version": 3
   },
   "file_extension": ".py",
   "mimetype": "text/x-python",
   "name": "python",
   "nbconvert_exporter": "python",
   "pygments_lexer": "ipython3",
   "version": "3.12.2"
  }
 },
 "nbformat": 4,
 "nbformat_minor": 5
}
